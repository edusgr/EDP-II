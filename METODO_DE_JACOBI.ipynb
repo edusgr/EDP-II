{
  "nbformat": 4,
  "nbformat_minor": 0,
  "metadata": {
    "colab": {
      "provenance": [],
      "authorship_tag": "ABX9TyNCjOs4SYHiELnyq/MRRcZN",
      "include_colab_link": true
    },
    "kernelspec": {
      "name": "python3",
      "display_name": "Python 3"
    },
    "language_info": {
      "name": "python"
    }
  },
  "cells": [
    {
      "cell_type": "markdown",
      "metadata": {
        "id": "view-in-github",
        "colab_type": "text"
      },
      "source": [
        "<a href=\"https://colab.research.google.com/github/edusgr/EDP-II/blob/main/METODO_DE_JACOBI.ipynb\" target=\"_parent\"><img src=\"https://colab.research.google.com/assets/colab-badge.svg\" alt=\"Open In Colab\"/></a>"
      ]
    },
    {
      "cell_type": "markdown",
      "source": [
        "# **MÉTODO DE JACOBI**\n"
      ],
      "metadata": {
        "id": "Tm0bUJbRqFrS"
      }
    },
    {
      "cell_type": "code",
      "execution_count": 179,
      "metadata": {
        "id": "FwGEy5HopmlR"
      },
      "outputs": [],
      "source": [
        "import numpy as np\n",
        "import pandas as pd\n",
        "from IPython.display import display\n",
        "\n",
        "pd.set_option(\"display.precision\", 8)\n",
        "pd.set_option(\"display.width\", 140)\n"
      ]
    },
    {
      "cell_type": "code",
      "source": [
        "# Funcion de jacobi\n",
        "def jacobi(A, b, x0, TOL, N, V):\n",
        "    A = np.array(A, dtype=float)\n",
        "    b = np.array(b, dtype=float).reshape(-1)\n",
        "    x_old = np.array(x0, dtype=float).reshape(-1)\n",
        "    n = A.shape[0]\n",
        "\n",
        "    if V is None:\n",
        "      V= [f\"x{i+1}\" for i in range(n)]\n",
        "\n",
        "    historial = []\n",
        "    exito = False\n",
        "\n",
        "# Iteración 0\n",
        "    fila0 = {\"iter\": 0}\n",
        "    for name, val in zip(V, x_old):\n",
        "        fila0[name] = val\n",
        "    historial.append(fila0)\n",
        "\n",
        "# Paso 1\n",
        "    k = 1\n",
        "\n",
        "# Paso 2\n",
        "    while k <= N:\n",
        "        x_new = np.zeros_like(x_old)\n",
        "\n",
        "# Paso 3\n",
        "        for i in range(n):\n",
        "            aii = A[i, i]\n",
        "            suma = sum(A[i, j]*x_old[j] for j in range(n) if j != i)\n",
        "            x_new[i] = (b[i] - suma) / aii\n",
        "\n",
        "# Paso 4\n",
        "        err_inf = np.linalg.norm(x_new - x_old, ord=np.inf)\n",
        "\n",
        "        fila = {\"iter\": k}\n",
        "        for name, val in zip(V, x_new):\n",
        "            fila[name] = val\n",
        "        fila[\"err_inf\"] = err_inf\n",
        "        historial.append(fila)\n",
        "\n",
        "        if err_inf < TOL:\n",
        "            exito = True\n",
        "            x_final = x_new.copy()\n",
        "            break\n",
        "\n",
        "# Paso 5\n",
        "        k += 1\n",
        "\n",
        "# Paso 6\n",
        "        x_old = x_new\n",
        "\n",
        "    if not exito:\n",
        "        x_final = x_old\n",
        "\n",
        "# Construimos la tabla\n",
        "    cols = [\"iter\"] + V\n",
        "    tabla = pd.DataFrame(historial)[cols]\n",
        "\n",
        "    return x_final, tabla, exito\n"
      ],
      "metadata": {
        "id": "ndUfOaGFwnmn"
      },
      "execution_count": 180,
      "outputs": []
    },
    {
      "cell_type": "code",
      "source": [
        "# Escritura del sistema Ax=b\n",
        "\n",
        "A = [[4, -1, -1, 0],\n",
        "     [1, -4, 0, 1],\n",
        "     [1, 0, -4, 1],\n",
        "     [0, 1, 1, -4]]\n",
        "\n",
        "#   si en la diagonal hay ceros, es necesario\n",
        "#   intercambiar reenglones, no debe haber\n",
        "#   ceros en la diagonal\n",
        "\n",
        "b = [0, -2/3, -8/9, -14/9]\n"
      ],
      "metadata": {
        "id": "2_oyUXAawrVH"
      },
      "execution_count": 181,
      "outputs": []
    },
    {
      "cell_type": "code",
      "source": [
        "# Parametros del problema\n",
        "\n",
        "x0  = [0, 0, 0, 0]\n",
        "TOL = 1e-5\n",
        "N   = 100\n"
      ],
      "metadata": {
        "id": "FVZ8nBa2wvHL"
      },
      "execution_count": 182,
      "outputs": []
    },
    {
      "cell_type": "code",
      "source": [
        "# Ejecucion de la función Jacobi\n",
        "x_aprox, tabla, exito = jacobi(A, b, x0, TOL, N, V=[\"A\",\"B\",\"C\",\"D\"])\n",
        "\n",
        "# Imprimir la tabla\n",
        "display(tabla.style.hide(axis=\"index\"))\n",
        "\n",
        "# Imprimir el vector solucion\n",
        "print(\"Solución aproximada X=\", x_aprox)\n",
        "\n"
      ],
      "metadata": {
        "colab": {
          "base_uri": "https://localhost:8080/",
          "height": 599
        },
        "id": "2Fgpc26E6-sT",
        "outputId": "262f4786-a2b6-47d0-f79a-c34ed7fdd75f"
      },
      "execution_count": 183,
      "outputs": [
        {
          "output_type": "display_data",
          "data": {
            "text/plain": [
              "<pandas.io.formats.style.Styler at 0x7e7b715d4a70>"
            ],
            "text/html": [
              "<style type=\"text/css\">\n",
              "</style>\n",
              "<table id=\"T_44d90\" class=\"dataframe\">\n",
              "  <thead>\n",
              "    <tr>\n",
              "      <th id=\"T_44d90_level0_col0\" class=\"col_heading level0 col0\" >iter</th>\n",
              "      <th id=\"T_44d90_level0_col1\" class=\"col_heading level0 col1\" >A</th>\n",
              "      <th id=\"T_44d90_level0_col2\" class=\"col_heading level0 col2\" >B</th>\n",
              "      <th id=\"T_44d90_level0_col3\" class=\"col_heading level0 col3\" >C</th>\n",
              "      <th id=\"T_44d90_level0_col4\" class=\"col_heading level0 col4\" >D</th>\n",
              "    </tr>\n",
              "  </thead>\n",
              "  <tbody>\n",
              "    <tr>\n",
              "      <td id=\"T_44d90_row0_col0\" class=\"data row0 col0\" >0</td>\n",
              "      <td id=\"T_44d90_row0_col1\" class=\"data row0 col1\" >0.000000</td>\n",
              "      <td id=\"T_44d90_row0_col2\" class=\"data row0 col2\" >0.000000</td>\n",
              "      <td id=\"T_44d90_row0_col3\" class=\"data row0 col3\" >0.000000</td>\n",
              "      <td id=\"T_44d90_row0_col4\" class=\"data row0 col4\" >0.000000</td>\n",
              "    </tr>\n",
              "    <tr>\n",
              "      <td id=\"T_44d90_row1_col0\" class=\"data row1 col0\" >1</td>\n",
              "      <td id=\"T_44d90_row1_col1\" class=\"data row1 col1\" >0.000000</td>\n",
              "      <td id=\"T_44d90_row1_col2\" class=\"data row1 col2\" >0.166667</td>\n",
              "      <td id=\"T_44d90_row1_col3\" class=\"data row1 col3\" >0.222222</td>\n",
              "      <td id=\"T_44d90_row1_col4\" class=\"data row1 col4\" >0.388889</td>\n",
              "    </tr>\n",
              "    <tr>\n",
              "      <td id=\"T_44d90_row2_col0\" class=\"data row2 col0\" >2</td>\n",
              "      <td id=\"T_44d90_row2_col1\" class=\"data row2 col1\" >0.097222</td>\n",
              "      <td id=\"T_44d90_row2_col2\" class=\"data row2 col2\" >0.263889</td>\n",
              "      <td id=\"T_44d90_row2_col3\" class=\"data row2 col3\" >0.319444</td>\n",
              "      <td id=\"T_44d90_row2_col4\" class=\"data row2 col4\" >0.486111</td>\n",
              "    </tr>\n",
              "    <tr>\n",
              "      <td id=\"T_44d90_row3_col0\" class=\"data row3 col0\" >3</td>\n",
              "      <td id=\"T_44d90_row3_col1\" class=\"data row3 col1\" >0.145833</td>\n",
              "      <td id=\"T_44d90_row3_col2\" class=\"data row3 col2\" >0.312500</td>\n",
              "      <td id=\"T_44d90_row3_col3\" class=\"data row3 col3\" >0.368056</td>\n",
              "      <td id=\"T_44d90_row3_col4\" class=\"data row3 col4\" >0.534722</td>\n",
              "    </tr>\n",
              "    <tr>\n",
              "      <td id=\"T_44d90_row4_col0\" class=\"data row4 col0\" >4</td>\n",
              "      <td id=\"T_44d90_row4_col1\" class=\"data row4 col1\" >0.170139</td>\n",
              "      <td id=\"T_44d90_row4_col2\" class=\"data row4 col2\" >0.336806</td>\n",
              "      <td id=\"T_44d90_row4_col3\" class=\"data row4 col3\" >0.392361</td>\n",
              "      <td id=\"T_44d90_row4_col4\" class=\"data row4 col4\" >0.559028</td>\n",
              "    </tr>\n",
              "    <tr>\n",
              "      <td id=\"T_44d90_row5_col0\" class=\"data row5 col0\" >5</td>\n",
              "      <td id=\"T_44d90_row5_col1\" class=\"data row5 col1\" >0.182292</td>\n",
              "      <td id=\"T_44d90_row5_col2\" class=\"data row5 col2\" >0.348958</td>\n",
              "      <td id=\"T_44d90_row5_col3\" class=\"data row5 col3\" >0.404514</td>\n",
              "      <td id=\"T_44d90_row5_col4\" class=\"data row5 col4\" >0.571181</td>\n",
              "    </tr>\n",
              "    <tr>\n",
              "      <td id=\"T_44d90_row6_col0\" class=\"data row6 col0\" >6</td>\n",
              "      <td id=\"T_44d90_row6_col1\" class=\"data row6 col1\" >0.188368</td>\n",
              "      <td id=\"T_44d90_row6_col2\" class=\"data row6 col2\" >0.355035</td>\n",
              "      <td id=\"T_44d90_row6_col3\" class=\"data row6 col3\" >0.410590</td>\n",
              "      <td id=\"T_44d90_row6_col4\" class=\"data row6 col4\" >0.577257</td>\n",
              "    </tr>\n",
              "    <tr>\n",
              "      <td id=\"T_44d90_row7_col0\" class=\"data row7 col0\" >7</td>\n",
              "      <td id=\"T_44d90_row7_col1\" class=\"data row7 col1\" >0.191406</td>\n",
              "      <td id=\"T_44d90_row7_col2\" class=\"data row7 col2\" >0.358073</td>\n",
              "      <td id=\"T_44d90_row7_col3\" class=\"data row7 col3\" >0.413628</td>\n",
              "      <td id=\"T_44d90_row7_col4\" class=\"data row7 col4\" >0.580295</td>\n",
              "    </tr>\n",
              "    <tr>\n",
              "      <td id=\"T_44d90_row8_col0\" class=\"data row8 col0\" >8</td>\n",
              "      <td id=\"T_44d90_row8_col1\" class=\"data row8 col1\" >0.192925</td>\n",
              "      <td id=\"T_44d90_row8_col2\" class=\"data row8 col2\" >0.359592</td>\n",
              "      <td id=\"T_44d90_row8_col3\" class=\"data row8 col3\" >0.415148</td>\n",
              "      <td id=\"T_44d90_row8_col4\" class=\"data row8 col4\" >0.581814</td>\n",
              "    </tr>\n",
              "    <tr>\n",
              "      <td id=\"T_44d90_row9_col0\" class=\"data row9 col0\" >9</td>\n",
              "      <td id=\"T_44d90_row9_col1\" class=\"data row9 col1\" >0.193685</td>\n",
              "      <td id=\"T_44d90_row9_col2\" class=\"data row9 col2\" >0.360352</td>\n",
              "      <td id=\"T_44d90_row9_col3\" class=\"data row9 col3\" >0.415907</td>\n",
              "      <td id=\"T_44d90_row9_col4\" class=\"data row9 col4\" >0.582574</td>\n",
              "    </tr>\n",
              "    <tr>\n",
              "      <td id=\"T_44d90_row10_col0\" class=\"data row10 col0\" >10</td>\n",
              "      <td id=\"T_44d90_row10_col1\" class=\"data row10 col1\" >0.194065</td>\n",
              "      <td id=\"T_44d90_row10_col2\" class=\"data row10 col2\" >0.360731</td>\n",
              "      <td id=\"T_44d90_row10_col3\" class=\"data row10 col3\" >0.416287</td>\n",
              "      <td id=\"T_44d90_row10_col4\" class=\"data row10 col4\" >0.582954</td>\n",
              "    </tr>\n",
              "    <tr>\n",
              "      <td id=\"T_44d90_row11_col0\" class=\"data row11 col0\" >11</td>\n",
              "      <td id=\"T_44d90_row11_col1\" class=\"data row11 col1\" >0.194255</td>\n",
              "      <td id=\"T_44d90_row11_col2\" class=\"data row11 col2\" >0.360921</td>\n",
              "      <td id=\"T_44d90_row11_col3\" class=\"data row11 col3\" >0.416477</td>\n",
              "      <td id=\"T_44d90_row11_col4\" class=\"data row11 col4\" >0.583143</td>\n",
              "    </tr>\n",
              "    <tr>\n",
              "      <td id=\"T_44d90_row12_col0\" class=\"data row12 col0\" >12</td>\n",
              "      <td id=\"T_44d90_row12_col1\" class=\"data row12 col1\" >0.194350</td>\n",
              "      <td id=\"T_44d90_row12_col2\" class=\"data row12 col2\" >0.361016</td>\n",
              "      <td id=\"T_44d90_row12_col3\" class=\"data row12 col3\" >0.416572</td>\n",
              "      <td id=\"T_44d90_row12_col4\" class=\"data row12 col4\" >0.583238</td>\n",
              "    </tr>\n",
              "    <tr>\n",
              "      <td id=\"T_44d90_row13_col0\" class=\"data row13 col0\" >13</td>\n",
              "      <td id=\"T_44d90_row13_col1\" class=\"data row13 col1\" >0.194397</td>\n",
              "      <td id=\"T_44d90_row13_col2\" class=\"data row13 col2\" >0.361064</td>\n",
              "      <td id=\"T_44d90_row13_col3\" class=\"data row13 col3\" >0.416619</td>\n",
              "      <td id=\"T_44d90_row13_col4\" class=\"data row13 col4\" >0.583286</td>\n",
              "    </tr>\n",
              "    <tr>\n",
              "      <td id=\"T_44d90_row14_col0\" class=\"data row14 col0\" >14</td>\n",
              "      <td id=\"T_44d90_row14_col1\" class=\"data row14 col1\" >0.194421</td>\n",
              "      <td id=\"T_44d90_row14_col2\" class=\"data row14 col2\" >0.361087</td>\n",
              "      <td id=\"T_44d90_row14_col3\" class=\"data row14 col3\" >0.416643</td>\n",
              "      <td id=\"T_44d90_row14_col4\" class=\"data row14 col4\" >0.583310</td>\n",
              "    </tr>\n",
              "    <tr>\n",
              "      <td id=\"T_44d90_row15_col0\" class=\"data row15 col0\" >15</td>\n",
              "      <td id=\"T_44d90_row15_col1\" class=\"data row15 col1\" >0.194433</td>\n",
              "      <td id=\"T_44d90_row15_col2\" class=\"data row15 col2\" >0.361099</td>\n",
              "      <td id=\"T_44d90_row15_col3\" class=\"data row15 col3\" >0.416655</td>\n",
              "      <td id=\"T_44d90_row15_col4\" class=\"data row15 col4\" >0.583321</td>\n",
              "    </tr>\n",
              "    <tr>\n",
              "      <td id=\"T_44d90_row16_col0\" class=\"data row16 col0\" >16</td>\n",
              "      <td id=\"T_44d90_row16_col1\" class=\"data row16 col1\" >0.194439</td>\n",
              "      <td id=\"T_44d90_row16_col2\" class=\"data row16 col2\" >0.361105</td>\n",
              "      <td id=\"T_44d90_row16_col3\" class=\"data row16 col3\" >0.416661</td>\n",
              "      <td id=\"T_44d90_row16_col4\" class=\"data row16 col4\" >0.583327</td>\n",
              "    </tr>\n",
              "  </tbody>\n",
              "</table>\n"
            ]
          },
          "metadata": {}
        },
        {
          "output_type": "stream",
          "name": "stdout",
          "text": [
            "Solución aproximada X= [0.19443851 0.36110518 0.41666073 0.5833274 ]\n"
          ]
        }
      ]
    }
  ]
}